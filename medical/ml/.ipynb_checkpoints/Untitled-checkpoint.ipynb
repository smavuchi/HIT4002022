{
 "cells": [
  {
   "cell_type": "code",
   "execution_count": 1,
   "id": "3588c12d-c221-4071-95bb-173eb4b9e883",
   "metadata": {},
   "outputs": [],
   "source": [
    "import pandas as pd\n",
    "import numpy as np\n",
    "import seaborn as sns\n",
    "from matplotlib import pyplot as plt\n",
    "import matplotlib\n",
    "%matplotlib inline\n",
    "from sklearn.metrics import classification_report,confusion_matrix"
   ]
  },
  {
   "cell_type": "code",
   "execution_count": 2,
   "id": "4f9bdcfb-f3f1-415d-af00-4d466f8cedfb",
   "metadata": {},
   "outputs": [],
   "source": [
    "import warnings\n",
    "warnings.filterwarnings('ignore')"
   ]
  },
  {
   "cell_type": "code",
   "execution_count": 3,
   "id": "8334dcc8-d4d3-4690-bc74-2f591a180624",
   "metadata": {},
   "outputs": [
    {
     "data": {
      "text/html": [
       "<div>\n",
       "<style scoped>\n",
       "    .dataframe tbody tr th:only-of-type {\n",
       "        vertical-align: middle;\n",
       "    }\n",
       "\n",
       "    .dataframe tbody tr th {\n",
       "        vertical-align: top;\n",
       "    }\n",
       "\n",
       "    .dataframe thead th {\n",
       "        text-align: right;\n",
       "    }\n",
       "</style>\n",
       "<table border=\"1\" class=\"dataframe\">\n",
       "  <thead>\n",
       "    <tr style=\"text-align: right;\">\n",
       "      <th></th>\n",
       "      <th>CLAIM_NUMBER</th>\n",
       "      <th>LINE_NUMBER</th>\n",
       "      <th>MEMBER_NUMBER</th>\n",
       "      <th>CURRENTAGE</th>\n",
       "      <th>SUFFIX</th>\n",
       "      <th>PATIENTNAME</th>\n",
       "      <th>GENDER</th>\n",
       "      <th>CURRENTAGE_1</th>\n",
       "      <th>CLAIMED</th>\n",
       "      <th>PAID</th>\n",
       "      <th>...</th>\n",
       "      <th>REFERRAL</th>\n",
       "      <th>PCKAGE</th>\n",
       "      <th>TARIFF_AMOUNT</th>\n",
       "      <th>PAY_WHO</th>\n",
       "      <th>MODIFIER_STRING</th>\n",
       "      <th>FIRMNO</th>\n",
       "      <th>SHORTFALLREASON</th>\n",
       "      <th>PROVIDERTYPE</th>\n",
       "      <th>AGE</th>\n",
       "      <th>Class</th>\n",
       "    </tr>\n",
       "  </thead>\n",
       "  <tbody>\n",
       "    <tr>\n",
       "      <th>0</th>\n",
       "      <td>31184</td>\n",
       "      <td>1</td>\n",
       "      <td>30400166634</td>\n",
       "      <td>39.921212</td>\n",
       "      <td>2</td>\n",
       "      <td>TASHINGA</td>\n",
       "      <td>F</td>\n",
       "      <td>39.921212</td>\n",
       "      <td>450.0</td>\n",
       "      <td>258.0</td>\n",
       "      <td>...</td>\n",
       "      <td>10782.0</td>\n",
       "      <td>304</td>\n",
       "      <td>258.0</td>\n",
       "      <td>M</td>\n",
       "      <td>NaN</td>\n",
       "      <td>CMS004KAO</td>\n",
       "      <td>101</td>\n",
       "      <td>18</td>\n",
       "      <td>ABOVE 22</td>\n",
       "      <td>proceed</td>\n",
       "    </tr>\n",
       "    <tr>\n",
       "      <th>1</th>\n",
       "      <td>56041</td>\n",
       "      <td>1</td>\n",
       "      <td>30400171454</td>\n",
       "      <td>36.948093</td>\n",
       "      <td>1</td>\n",
       "      <td>EMILY</td>\n",
       "      <td>F</td>\n",
       "      <td>36.948093</td>\n",
       "      <td>70.0</td>\n",
       "      <td>17.5</td>\n",
       "      <td>...</td>\n",
       "      <td>1244.0</td>\n",
       "      <td>304</td>\n",
       "      <td>25.0</td>\n",
       "      <td>M</td>\n",
       "      <td>NaN</td>\n",
       "      <td>CMS004MUR</td>\n",
       "      <td>101</td>\n",
       "      <td>18</td>\n",
       "      <td>ABOVE 22</td>\n",
       "      <td>proceed</td>\n",
       "    </tr>\n",
       "    <tr>\n",
       "      <th>2</th>\n",
       "      <td>86876</td>\n",
       "      <td>1</td>\n",
       "      <td>30001814165</td>\n",
       "      <td>38.128201</td>\n",
       "      <td>1</td>\n",
       "      <td>FADZAI</td>\n",
       "      <td>F</td>\n",
       "      <td>38.128201</td>\n",
       "      <td>25.0</td>\n",
       "      <td>17.5</td>\n",
       "      <td>...</td>\n",
       "      <td>5058.0</td>\n",
       "      <td>300</td>\n",
       "      <td>25.0</td>\n",
       "      <td>M</td>\n",
       "      <td>NaN</td>\n",
       "      <td>CMS001TNQ</td>\n",
       "      <td>101</td>\n",
       "      <td>18</td>\n",
       "      <td>ABOVE 22</td>\n",
       "      <td>proceed</td>\n",
       "    </tr>\n",
       "    <tr>\n",
       "      <th>3</th>\n",
       "      <td>117280</td>\n",
       "      <td>1</td>\n",
       "      <td>40000064456</td>\n",
       "      <td>60.203470</td>\n",
       "      <td>2</td>\n",
       "      <td>BHAVNA</td>\n",
       "      <td>F</td>\n",
       "      <td>60.203470</td>\n",
       "      <td>300.0</td>\n",
       "      <td>135.0</td>\n",
       "      <td>...</td>\n",
       "      <td>18192.0</td>\n",
       "      <td>400</td>\n",
       "      <td>135.0</td>\n",
       "      <td>V</td>\n",
       "      <td>NaN</td>\n",
       "      <td>CMS001SHC</td>\n",
       "      <td>101;535</td>\n",
       "      <td>18</td>\n",
       "      <td>ABOVE 22</td>\n",
       "      <td>proceed</td>\n",
       "    </tr>\n",
       "    <tr>\n",
       "      <th>4</th>\n",
       "      <td>117281</td>\n",
       "      <td>1</td>\n",
       "      <td>40000064456</td>\n",
       "      <td>60.203470</td>\n",
       "      <td>2</td>\n",
       "      <td>BHAVNA</td>\n",
       "      <td>F</td>\n",
       "      <td>60.203470</td>\n",
       "      <td>200.0</td>\n",
       "      <td>200.0</td>\n",
       "      <td>...</td>\n",
       "      <td>18192.0</td>\n",
       "      <td>400</td>\n",
       "      <td>250.0</td>\n",
       "      <td>V</td>\n",
       "      <td>NaN</td>\n",
       "      <td>CMS001SHC</td>\n",
       "      <td>101</td>\n",
       "      <td>18</td>\n",
       "      <td>ABOVE 22</td>\n",
       "      <td>proceed</td>\n",
       "    </tr>\n",
       "  </tbody>\n",
       "</table>\n",
       "<p>5 rows × 32 columns</p>\n",
       "</div>"
      ],
      "text/plain": [
       "   CLAIM_NUMBER  LINE_NUMBER  MEMBER_NUMBER  CURRENTAGE SUFFIX PATIENTNAME  \\\n",
       "0         31184            1    30400166634   39.921212      2  TASHINGA     \n",
       "1         56041            1    30400171454   36.948093      1     EMILY     \n",
       "2         86876            1    30001814165   38.128201      1    FADZAI     \n",
       "3        117280            1    40000064456   60.203470      2    BHAVNA     \n",
       "4        117281            1    40000064456   60.203470      2    BHAVNA     \n",
       "\n",
       "  GENDER  CURRENTAGE_1  CLAIMED   PAID  ...  REFERRAL  PCKAGE TARIFF_AMOUNT  \\\n",
       "0      F     39.921212    450.0  258.0  ...   10782.0     304         258.0   \n",
       "1      F     36.948093     70.0   17.5  ...    1244.0     304          25.0   \n",
       "2      F     38.128201     25.0   17.5  ...    5058.0     300          25.0   \n",
       "3      F     60.203470    300.0  135.0  ...   18192.0     400         135.0   \n",
       "4      F     60.203470    200.0  200.0  ...   18192.0     400         250.0   \n",
       "\n",
       "   PAY_WHO MODIFIER_STRING     FIRMNO SHORTFALLREASON PROVIDERTYPE       AGE  \\\n",
       "0        M             NaN  CMS004KAO             101           18  ABOVE 22   \n",
       "1        M             NaN  CMS004MUR             101           18  ABOVE 22   \n",
       "2        M             NaN  CMS001TNQ             101           18  ABOVE 22   \n",
       "3        V             NaN  CMS001SHC         101;535           18  ABOVE 22   \n",
       "4        V             NaN  CMS001SHC             101           18  ABOVE 22   \n",
       "\n",
       "     Class  \n",
       "0  proceed  \n",
       "1  proceed  \n",
       "2  proceed  \n",
       "3  proceed  \n",
       "4  proceed  \n",
       "\n",
       "[5 rows x 32 columns]"
      ]
     },
     "execution_count": 3,
     "metadata": {},
     "output_type": "execute_result"
    }
   ],
   "source": [
    "df = pd.read_csv('Final_Dataset.csv')\n",
    "df.head()"
   ]
  },
  {
   "cell_type": "code",
   "execution_count": null,
   "id": "b8738e90",
   "metadata": {},
   "outputs": [],
   "source": []
  },
  {
   "cell_type": "code",
   "execution_count": 4,
   "id": "f4b74c4a-cdaf-4d38-a7ef-7246406cdcf2",
   "metadata": {},
   "outputs": [],
   "source": [
    "df1 = df.drop(columns = ['LINE_NUMBER','SUFFIX','PATIENTNAME','CURRENTAGE_1','SHORTFALL', 'DATE_RECEIVED', 'PROCESS_DATE','PAYDATE','SERVICEDATE','DESCRIPTION_1','QUANTITY','REFERRAL','PCKAGE','PAY_WHO','MODIFIER_STRING','FIRMNO','SHORTFALLREASON','AGE'], axis = 1)"
   ]
  },
  {
   "cell_type": "code",
   "execution_count": 5,
   "id": "f0853bc5-f5ff-4fe4-8e98-6bc9fd78af45",
   "metadata": {},
   "outputs": [],
   "source": [
    "train_dataset = df1.drop(columns = ['SPE_SPECIALITY_CODE','PRACTICE_NAME','CLAIM_NUMBER','PROVIDERTYPE','TARIFF_AMOUNT','PAID'], axis = 1)"
   ]
  },
  {
   "cell_type": "code",
   "execution_count": 6,
   "id": "ef3f08e2",
   "metadata": {},
   "outputs": [
    {
     "data": {
      "text/plain": [
       "CLAIM_NUMBER           0\n",
       "MEMBER_NUMBER          0\n",
       "CURRENTAGE             0\n",
       "GENDER                 0\n",
       "CLAIMED                0\n",
       "PAID                   0\n",
       "PRACTICE_NUMBER        0\n",
       "PRACTICE_NAME          0\n",
       "SPE_SPECIALITY_CODE    0\n",
       "DESCRIPTION            0\n",
       "TARIFF_CODE            0\n",
       "TARIFF_AMOUNT          0\n",
       "PROVIDERTYPE           0\n",
       "Class                  0\n",
       "dtype: int64"
      ]
     },
     "execution_count": 6,
     "metadata": {},
     "output_type": "execute_result"
    }
   ],
   "source": [
    "df1.isnull().sum()"
   ]
  },
  {
   "cell_type": "code",
   "execution_count": 7,
   "id": "dd54ea08",
   "metadata": {},
   "outputs": [
    {
     "data": {
      "text/plain": [
       "(45854, 14)"
      ]
     },
     "execution_count": 7,
     "metadata": {},
     "output_type": "execute_result"
    }
   ],
   "source": [
    "df1.shape"
   ]
  },
  {
   "cell_type": "code",
   "execution_count": 8,
   "id": "41faeddd",
   "metadata": {},
   "outputs": [],
   "source": [
    "#Visualization of the data set\n",
    "def bar_chart(col):\n",
    "    Approved = df[df['Class']=='proceed'][col].value_counts()\n",
    "    Fraud = df[df['Class']=='possible fraud'][col].value_counts()\n",
    "    \n",
    "    df2 = pd.DataFrame([Approved, Fraud])\n",
    "    df2.index = ['Approved', 'Fraud']\n",
    "    df2.plot(kind='bar')"
   ]
  },
  {
   "cell_type": "code",
   "execution_count": 9,
   "id": "54a1e2be",
   "metadata": {},
   "outputs": [
    {
     "data": {
      "image/png": "[encoded data removed]",
      "text/plain": [
       "<Figure size 432x288 with 1 Axes>"
      ]
     },
     "metadata": {
      "needs_background": "light"
     },
     "output_type": "display_data"
    }
   ],
   "source": [
    "bar_chart('GENDER')\n"
   ]
  },
  {
   "cell_type": "code",
   "execution_count": 10,
   "id": "2f79c476",
   "metadata": {},
   "outputs": [
    {
     "data": {
      "text/plain": [
       "<AxesSubplot:>"
      ]
     },
     "execution_count": 10,
     "metadata": {},
     "output_type": "execute_result"
    },
    {
     "data": {
      "image/png": "[encoded data removed]",
      "text/plain": [
       "<Figure size 1080x720 with 2 Axes>"
      ]
     },
     "metadata": {
      "needs_background": "light"
     },
     "output_type": "display_data"
    }
   ],
   "source": [
    "corr = df1.corr()\n",
    "plt.figure(figsize=(15,10))\n",
    "sns.heatmap(corr,annot = True, cmap='BuPu')"
   ]
  },
  {
   "cell_type": "code",
   "execution_count": null,
   "id": "cc0ed0ba",
   "metadata": {},
   "outputs": [],
   "source": []
  },
  {
   "cell_type": "code",
   "execution_count": null,
   "id": "ab132414",
   "metadata": {},
   "outputs": [],
   "source": []
  },
  {
   "cell_type": "code",
   "execution_count": 11,
   "id": "d2e34b8c-545b-4c4f-be41-2c3796a5f2f3",
   "metadata": {},
   "outputs": [],
   "source": [
    "train_dataset = train_dataset.sample(frac=1).reset_index(drop=True)"
   ]
  },
  {
   "cell_type": "code",
   "execution_count": 12,
   "id": "74d6a1b6-3577-48dd-a2ea-8c68a09a91b6",
   "metadata": {},
   "outputs": [],
   "source": [
    "train_dataset = train_dataset.replace({'GENDER':{'F':1,'M':0}})"
   ]
  },
  {
   "cell_type": "code",
   "execution_count": 13,
   "id": "bc8323c7-8c85-483f-8e5f-9cd0db37e137",
   "metadata": {},
   "outputs": [],
   "source": [
    "train_dataset = train_dataset.replace({'Class':{'possible fraud ':0,'possible fraud':0, 'proceed':1}})"
   ]
  },
  {
   "cell_type": "code",
   "execution_count": 14,
   "id": "4c8898f2-47d1-4385-9c2f-a5c972db9826",
   "metadata": {},
   "outputs": [
    {
     "data": {
      "text/html": [
       "<div>\n",
       "<style scoped>\n",
       "    .dataframe tbody tr th:only-of-type {\n",
       "        vertical-align: middle;\n",
       "    }\n",
       "\n",
       "    .dataframe tbody tr th {\n",
       "        vertical-align: top;\n",
       "    }\n",
       "\n",
       "    .dataframe thead th {\n",
       "        text-align: right;\n",
       "    }\n",
       "</style>\n",
       "<table border=\"1\" class=\"dataframe\">\n",
       "  <thead>\n",
       "    <tr style=\"text-align: right;\">\n",
       "      <th></th>\n",
       "      <th>MEMBER_NUMBER</th>\n",
       "      <th>CURRENTAGE</th>\n",
       "      <th>GENDER</th>\n",
       "      <th>CLAIMED</th>\n",
       "      <th>PRACTICE_NUMBER</th>\n",
       "      <th>DESCRIPTION</th>\n",
       "      <th>TARIFF_CODE</th>\n",
       "      <th>Class</th>\n",
       "    </tr>\n",
       "  </thead>\n",
       "  <tbody>\n",
       "    <tr>\n",
       "      <th>0</th>\n",
       "      <td>40000276622</td>\n",
       "      <td>39.120136</td>\n",
       "      <td>1</td>\n",
       "      <td>40.0</td>\n",
       "      <td>18635</td>\n",
       "      <td>GYNAECOLOGY/OBSTETRICS</td>\n",
       "      <td>59489</td>\n",
       "      <td>1</td>\n",
       "    </tr>\n",
       "    <tr>\n",
       "      <th>1</th>\n",
       "      <td>30001509885</td>\n",
       "      <td>38.133577</td>\n",
       "      <td>1</td>\n",
       "      <td>60.0</td>\n",
       "      <td>18988</td>\n",
       "      <td>GYNAECOLOGY/OBSTETRICS</td>\n",
       "      <td>59477</td>\n",
       "      <td>1</td>\n",
       "    </tr>\n",
       "    <tr>\n",
       "      <th>2</th>\n",
       "      <td>30002057165</td>\n",
       "      <td>36.265298</td>\n",
       "      <td>1</td>\n",
       "      <td>442.0</td>\n",
       "      <td>185296</td>\n",
       "      <td>GYNAECOLOGY/OBSTETRICS</td>\n",
       "      <td>59500</td>\n",
       "      <td>1</td>\n",
       "    </tr>\n",
       "    <tr>\n",
       "      <th>3</th>\n",
       "      <td>30001767047</td>\n",
       "      <td>35.305620</td>\n",
       "      <td>1</td>\n",
       "      <td>80.0</td>\n",
       "      <td>18538</td>\n",
       "      <td>GYNAECOLOGY/OBSTETRICS</td>\n",
       "      <td>90031</td>\n",
       "      <td>1</td>\n",
       "    </tr>\n",
       "    <tr>\n",
       "      <th>4</th>\n",
       "      <td>30001118394</td>\n",
       "      <td>40.343255</td>\n",
       "      <td>1</td>\n",
       "      <td>25.0</td>\n",
       "      <td>18686</td>\n",
       "      <td>GYNAECOLOGY/OBSTETRICS</td>\n",
       "      <td>59477</td>\n",
       "      <td>1</td>\n",
       "    </tr>\n",
       "    <tr>\n",
       "      <th>...</th>\n",
       "      <td>...</td>\n",
       "      <td>...</td>\n",
       "      <td>...</td>\n",
       "      <td>...</td>\n",
       "      <td>...</td>\n",
       "      <td>...</td>\n",
       "      <td>...</td>\n",
       "      <td>...</td>\n",
       "    </tr>\n",
       "    <tr>\n",
       "      <th>45849</th>\n",
       "      <td>30001948399</td>\n",
       "      <td>51.429276</td>\n",
       "      <td>1</td>\n",
       "      <td>100.0</td>\n",
       "      <td>18864</td>\n",
       "      <td>GYNAECOLOGY/OBSTETRICS</td>\n",
       "      <td>90030</td>\n",
       "      <td>1</td>\n",
       "    </tr>\n",
       "    <tr>\n",
       "      <th>45850</th>\n",
       "      <td>40000276110</td>\n",
       "      <td>36.604007</td>\n",
       "      <td>1</td>\n",
       "      <td>25.0</td>\n",
       "      <td>18082</td>\n",
       "      <td>GYNAECOLOGY/OBSTETRICS</td>\n",
       "      <td>59477</td>\n",
       "      <td>1</td>\n",
       "    </tr>\n",
       "    <tr>\n",
       "      <th>45851</th>\n",
       "      <td>30002116501</td>\n",
       "      <td>43.711534</td>\n",
       "      <td>1</td>\n",
       "      <td>40.0</td>\n",
       "      <td>181963</td>\n",
       "      <td>GYNAECOLOGY/OBSTETRICS</td>\n",
       "      <td>90031</td>\n",
       "      <td>1</td>\n",
       "    </tr>\n",
       "    <tr>\n",
       "      <th>45852</th>\n",
       "      <td>30001485587</td>\n",
       "      <td>11.727663</td>\n",
       "      <td>1</td>\n",
       "      <td>80.0</td>\n",
       "      <td>12149</td>\n",
       "      <td>PAEDIATRICIANS</td>\n",
       "      <td>90050</td>\n",
       "      <td>1</td>\n",
       "    </tr>\n",
       "    <tr>\n",
       "      <th>45853</th>\n",
       "      <td>30002082790</td>\n",
       "      <td>3.948093</td>\n",
       "      <td>0</td>\n",
       "      <td>80.0</td>\n",
       "      <td>12580</td>\n",
       "      <td>PAEDIATRICIANS</td>\n",
       "      <td>90003</td>\n",
       "      <td>1</td>\n",
       "    </tr>\n",
       "  </tbody>\n",
       "</table>\n",
       "<p>45854 rows × 8 columns</p>\n",
       "</div>"
      ],
      "text/plain": [
       "       MEMBER_NUMBER  CURRENTAGE  GENDER  CLAIMED  PRACTICE_NUMBER  \\\n",
       "0        40000276622   39.120136       1     40.0            18635   \n",
       "1        30001509885   38.133577       1     60.0            18988   \n",
       "2        30002057165   36.265298       1    442.0           185296   \n",
       "3        30001767047   35.305620       1     80.0            18538   \n",
       "4        30001118394   40.343255       1     25.0            18686   \n",
       "...              ...         ...     ...      ...              ...   \n",
       "45849    30001948399   51.429276       1    100.0            18864   \n",
       "45850    40000276110   36.604007       1     25.0            18082   \n",
       "45851    30002116501   43.711534       1     40.0           181963   \n",
       "45852    30001485587   11.727663       1     80.0            12149   \n",
       "45853    30002082790    3.948093       0     80.0            12580   \n",
       "\n",
       "                  DESCRIPTION  TARIFF_CODE  Class  \n",
       "0      GYNAECOLOGY/OBSTETRICS        59489      1  \n",
       "1      GYNAECOLOGY/OBSTETRICS        59477      1  \n",
       "2      GYNAECOLOGY/OBSTETRICS        59500      1  \n",
       "3      GYNAECOLOGY/OBSTETRICS        90031      1  \n",
       "4      GYNAECOLOGY/OBSTETRICS        59477      1  \n",
       "...                       ...          ...    ...  \n",
       "45849  GYNAECOLOGY/OBSTETRICS        90030      1  \n",
       "45850  GYNAECOLOGY/OBSTETRICS        59477      1  \n",
       "45851  GYNAECOLOGY/OBSTETRICS        90031      1  \n",
       "45852          PAEDIATRICIANS        90050      1  \n",
       "45853          PAEDIATRICIANS        90003      1  \n",
       "\n",
       "[45854 rows x 8 columns]"
      ]
     },
     "execution_count": 14,
     "metadata": {},
     "output_type": "execute_result"
    }
   ],
   "source": [
    "train_dataset"
   ]
  },
  {
   "cell_type": "code",
   "execution_count": 15,
   "id": "9c0e09fd-e7f9-438b-aeec-6182c5d199e9",
   "metadata": {},
   "outputs": [],
   "source": [
    "train_dataset = train_dataset.replace({'DESCRIPTION':{'GYNAECOLOGY/OBSTETRICS':1,'PAEDIATRICIANS':0}})"
   ]
  },
  {
   "cell_type": "code",
   "execution_count": 16,
   "id": "2dd9c382-3440-4df3-80fe-288d1e95f8e7",
   "metadata": {},
   "outputs": [],
   "source": [
    "train_dataset = train_dataset.append({\"MEMBER_NUMBER\":4450,\"CURRENTAGE\":0,\"GENDER\":1,\"CLAIMED\":0,\"PRACTICE_NUMBER\":1,\"DESCRIPTION\":1,\"TARIFF_CODE\":765796,\"Class\":0},ignore_index=True)\n",
    "\n",
    "train_dataset = train_dataset.append({\"MEMBER_NUMBER\":4353,\"CURRENTAGE\":1,\"GENDER\":1,\"CLAIMED\":18023,\"PRACTICE_NUMBER\":3000,\"DESCRIPTION\":1,\"TARIFF_CODE\":88679,\"Class\":0},ignore_index=True)\n",
    "train_dataset = train_dataset.append({\"MEMBER_NUMBER\":450,\"CURRENTAGE\":2,\"GENDER\":1,\"CLAIMED\":18023,\"PRACTICE_NUMBER\":59500,\"DESCRIPTION\":1,\"TARIFF_CODE\":87667,\"Class\":0},ignore_index=True)\n",
    "train_dataset = train_dataset.append({\"MEMBER_NUMBER\":45340,\"CURRENTAGE\":3,\"GENDER\":1,\"CLAIMED\":18023,\"PRACTICE_NUMBER\":4000,\"DESCRIPTION\":1,\"TARIFF_CODE\":43466,\"Class\":0},ignore_index=True)\n",
    "train_dataset = train_dataset.append({\"MEMBER_NUMBER\":450,\"CURRENTAGE\":4,\"GENDER\":1,\"CLAIMED\":10,\"PRACTICE_NUMBER\":59500,\"DESCRIPTION\":1,\"TARIFF_CODE\":676576,\"Class\":0},ignore_index=True)\n",
    "train_dataset = train_dataset.append({\"MEMBER_NUMBER\":4534,\"CURRENTAGE\":5,\"GENDER\":1,\"CLAIMED\":18023,\"PRACTICE_NUMBER\":59500,\"DESCRIPTION\":1,\"TARIFF_CODE\":78768,\"Class\":0},ignore_index=True)\n",
    "train_dataset = train_dataset.append({\"MEMBER_NUMBER\":567,\"CURRENTAGE\":6,\"GENDER\":1,\"CLAIMED\":18023,\"PRACTICE_NUMBER\":50000,\"DESCRIPTION\":1,\"TARIFF_CODE\":9788,\"Class\":0},ignore_index=True)\n",
    "train_dataset = train_dataset.append({\"MEMBER_NUMBER\":450,\"CURRENTAGE\":7,\"GENDER\":1,\"CLAIMED\":4000,\"PRACTICE_NUMBER\":59500,\"DESCRIPTION\":1,\"TARIFF_CODE\":57887,\"Class\":0},ignore_index=True)\n",
    "train_dataset = train_dataset.append({\"MEMBER_NUMBER\":4576,\"CURRENTAGE\":8,\"GENDER\":1,\"CLAIMED\":18023,\"PRACTICE_NUMBER\":59500,\"DESCRIPTION\":1,\"TARIFF_CODE\":67676,\"Class\":0},ignore_index=True)\n",
    "train_dataset = train_dataset.append({\"MEMBER_NUMBER\":234,\"CURRENTAGE\":9,\"GENDER\":1,\"CLAIMED\":18023,\"PRACTICE_NUMBER\":59500,\"DESCRIPTION\":1,\"TARIFF_CODE\":98765,\"Class\":0},ignore_index=True)\n",
    "train_dataset = train_dataset.append({\"MEMBER_NUMBER\":567,\"CURRENTAGE\":10,\"GENDER\":1,\"CLAIMED\":18023,\"PRACTICE_NUMBER\":645545,\"DESCRIPTION\":1,\"TARIFF_CODE\":9545,\"Class\":0},ignore_index=True)\n",
    "train_dataset = train_dataset.append({\"MEMBER_NUMBER\":450,\"CURRENTAGE\":11,\"GENDER\":1,\"CLAIMED\":500,\"PRACTICE_NUMBER\":59500,\"DESCRIPTION\":1,\"TARIFF_CODE\":9865,\"Class\":0},ignore_index=True)\n",
    "train_dataset = train_dataset.append({\"MEMBER_NUMBER\":897,\"CURRENTAGE\":12,\"GENDER\":1,\"CLAIMED\":18023,\"PRACTICE_NUMBER\":59500,\"DESCRIPTION\":1,\"TARIFF_CODE\":5678,\"Class\":0},ignore_index=True)\n",
    "train_dataset = train_dataset.append({\"MEMBER_NUMBER\":450,\"CURRENTAGE\":13,\"GENDER\":1,\"CLAIMED\":18023,\"PRACTICE_NUMBER\":59500,\"DESCRIPTION\":1,\"TARIFF_CODE\":67689,\"Class\":0},ignore_index=True)\n",
    "train_dataset = train_dataset.append({\"MEMBER_NUMBER\":3563,\"CURRENTAGE\":14,\"GENDER\":1,\"CLAIMED\":1000,\"PRACTICE_NUMBER\":43,\"DESCRIPTION\":1,\"TARIFF_CODE\":87876,\"Class\":0},ignore_index=True)\n",
    "train_dataset = train_dataset.append({\"MEMBER_NUMBER\":24645,\"CURRENTAGE\":15,\"GENDER\":1,\"CLAIMED\":18023,\"PRACTICE_NUMBER\":59500,\"DESCRIPTION\":1,\"TARIFF_CODE\":57676,\"Class\":0},ignore_index=True)\n",
    "train_dataset = train_dataset.append({\"MEMBER_NUMBER\":56756,\"CURRENTAGE\":16,\"GENDER\":1,\"CLAIMED\":18023,\"PRACTICE_NUMBER\":346,\"DESCRIPTION\":1,\"TARIFF_CODE\":74678,\"Class\":0},ignore_index=True)\n",
    "train_dataset = train_dataset.append({\"MEMBER_NUMBER\":3753,\"CURRENTAGE\":17,\"GENDER\":1,\"CLAIMED\":18023,\"PRACTICE_NUMBER\":59500,\"DESCRIPTION\":1,\"TARIFF_CODE\":67687,\"Class\":0},ignore_index=True)\n",
    "train_dataset = train_dataset.append({\"MEMBER_NUMBER\":68578,\"CURRENTAGE\":0,\"GENDER\":1,\"CLAIMED\":18023,\"PRACTICE_NUMBER\":597500,\"DESCRIPTION\":1,\"TARIFF_CODE\":5789,\"Class\":0},ignore_index=True)\n",
    "train_dataset = train_dataset.append({\"MEMBER_NUMBER\":47646,\"CURRENTAGE\":1,\"GENDER\":1,\"CLAIMED\":18023,\"PRACTICE_NUMBER\":59500,\"DESCRIPTION\":1,\"TARIFF_CODE\":43345,\"Class\":0},ignore_index=True)\n",
    "train_dataset = train_dataset.append({\"MEMBER_NUMBER\":5476, \"CURRENTAGE\":2,\"GENDER\":1,\"CLAIMED\":18023,\"PRACTICE_NUMBER\":59500,\"DESCRIPTION\":1,\"TARIFF_CODE\":4345646,\"Class\":0},ignore_index=True)\n",
    "train_dataset = train_dataset.append({\"MEMBER_NUMBER\":4752,\"CURRENTAGE\":3,\"GENDER\":1,\"CLAIMED\":18023,\"PRACTICE_NUMBER\":876,\"DESCRIPTION\":1,\"TARIFF_CODE\":45466,\"Class\":0},ignore_index=True)\n",
    "train_dataset = train_dataset.append({\"MEMBER_NUMBER\":2524,\"CURRENTAGE\":4,\"GENDER\":1,\"CLAIMED\":18023,\"PRACTICE_NUMBER\":59500,\"DESCRIPTION\":1,\"TARIFF_CODE\":1000,\"Class\":0},ignore_index=True)\n",
    "train_dataset = train_dataset.append({\"MEMBER_NUMBER\":2546,\"CURRENTAGE\":5,\"GENDER\":1,\"CLAIMED\":18023,\"PRACTICE_NUMBER\":59500,\"DESCRIPTION\":1,\"TARIFF_CODE\":46766,\"Class\":0},ignore_index=True)\n",
    "train_dataset = train_dataset.append({\"MEMBER_NUMBER\":8463,\"CURRENTAGE\":6,\"GENDER\":1,\"CLAIMED\":18023,\"PRACTICE_NUMBER\":59500,\"DESCRIPTION\":1,\"TARIFF_CODE\":86566,\"Class\":0},ignore_index=True)\n",
    "train_dataset = train_dataset.append({\"MEMBER_NUMBER\":5765,\"CURRENTAGE\":7,\"GENDER\":1,\"CLAIMED\":18023,\"PRACTICE_NUMBER\":0,\"DESCRIPTION\":1,\"TARIFF_CODE\":456876,\"Class\":0},ignore_index=True)\n",
    "train_dataset = train_dataset.append({\"MEMBER_NUMBER\":874,\"CURRENTAGE\":8,\"GENDER\":1,\"CLAIMED\":18023,\"PRACTICE_NUMBER\":59500,\"DESCRIPTION\":1,\"TARIFF_CODE\":4356445,\"Class\":0},ignore_index=True)\n",
    "train_dataset = train_dataset.append({\"MEMBER_NUMBER\":3567,\"CURRENTAGE\":9,\"GENDER\":1,\"CLAIMED\":18023,\"PRACTICE_NUMBER\":59500,\"DESCRIPTION\":1,\"TARIFF_CODE\":34566,\"Class\":0},ignore_index=True)\n",
    "train_dataset = train_dataset.append({\"MEMBER_NUMBER\":45057,\"CURRENTAGE\":10,\"GENDER\":1,\"CLAIMED\":18023,\"PRACTICE_NUMBER\":59500,\"DESCRIPTION\":1,\"TARIFF_CODE\":100,\"Class\":0},ignore_index=True)\n",
    "train_dataset = train_dataset.append({\"MEMBER_NUMBER\":678,\"CURRENTAGE\":11,\"GENDER\":1,\"CLAIMED\":18023,\"PRACTICE_NUMBER\":59500,\"DESCRIPTION\":1,\"TARIFF_CODE\":433456,\"Class\":0},ignore_index=True)\n",
    "train_dataset = train_dataset.append({\"MEMBER_NUMBER\":854,\"CURRENTAGE\":12,\"GENDER\":1,\"CLAIMED\":18023,\"PRACTICE_NUMBER\":59500,\"DESCRIPTION\":1,\"TARIFF_CODE\":45766,\"Class\":0},ignore_index=True)\n",
    "train_dataset = train_dataset.append({\"MEMBER_NUMBER\":4563,\"CURRENTAGE\":13,\"GENDER\":1,\"CLAIMED\":18023,\"PRACTICE_NUMBER\":100,\"DESCRIPTION\":1,\"TARIFF_CODE\":45866,\"Class\":0},ignore_index=True)\n",
    "train_dataset = train_dataset.append({\"MEMBER_NUMBER\":0,\"CURRENTAGE\":14,\"GENDER\":1,\"CLAIMED\":18023,\"PRACTICE_NUMBER\":59500,\"DESCRIPTION\":1,\"TARIFF_CODE\":43866,\"Class\":0},ignore_index=True)\n",
    "train_dataset = train_dataset.append({\"MEMBER_NUMBER\":450,\"CURRENTAGE\":15,\"GENDER\":1,\"CLAIMED\":18023,\"PRACTICE_NUMBER\":59500,\"DESCRIPTION\":1,\"TARIFF_CODE\":43467,\"Class\":0},ignore_index=True)\n",
    "train_dataset = train_dataset.append({\"MEMBER_NUMBER\":5756,\"CURRENTAGE\":16,\"GENDER\":1,\"CLAIMED\":18023,\"PRACTICE_NUMBER\":59500,\"DESCRIPTION\":1,\"TARIFF_CODE\":65437,\"Class\":0},ignore_index=True)\n",
    "train_dataset = train_dataset.append({\"MEMBER_NUMBER\":987,\"CURRENTAGE\":17,\"GENDER\":1,\"CLAIMED\":344443,\"PRACTICE_NUMBER\":59500,\"DESCRIPTION\":1,\"TARIFF_CODE\":0,\"Class\":0},ignore_index=True)\n",
    "train_dataset = train_dataset.append({\"MEMBER_NUMBER\":8234,\"CURRENTAGE\":0,\"GENDER\":1,\"CLAIMED\":18023,\"PRACTICE_NUMBER\":5000,\"DESCRIPTION\":1,\"TARIFF_CODE\":457654,\"Class\":0},ignore_index=True)\n",
    "train_dataset = train_dataset.append({\"MEMBER_NUMBER\":49503,\"CURRENTAGE\":1,\"GENDER\":1,\"CLAIMED\":18023,\"PRACTICE_NUMBER\":59500,\"DESCRIPTION\":1,\"TARIFF_CODE\":547654,\"Class\":0},ignore_index=True)\n",
    "train_dataset = train_dataset.append({\"MEMBER_NUMBER\":34590,\"CURRENTAGE\":2,\"GENDER\":1,\"CLAIMED\":18023,\"PRACTICE_NUMBER\":59500,\"DESCRIPTION\":1,\"TARIFF_CODE\":54676,\"Class\":0},ignore_index=True)\n",
    "train_dataset = train_dataset.append({\"MEMBER_NUMBER\":3943,\"CURRENTAGE\":3,\"GENDER\":1,\"CLAIMED\":18023,\"PRACTICE_NUMBER\":59500,\"DESCRIPTION\":1,\"TARIFF_CODE\":543766,\"Class\":0},ignore_index=True)\n",
    "train_dataset = train_dataset.append({\"MEMBER_NUMBER\":450,\"CURRENTAGE\":4,\"GENDER\":1,\"CLAIMED\":18023,\"PRACTICE_NUMBER\":666666,\"DESCRIPTION\":1,\"TARIFF_CODE\":536753,\"Class\":0},ignore_index=True)\n",
    "train_dataset = train_dataset.append({\"MEMBER_NUMBER\":3490,\"CURRENTAGE\":5,\"GENDER\":1,\"CLAIMED\":344345,\"PRACTICE_NUMBER\":59500,\"DESCRIPTION\":1,\"TARIFF_CODE\":753554,\"Class\":0},ignore_index=True)\n",
    "train_dataset = train_dataset.append({\"MEMBER_NUMBER\":3450,\"CURRENTAGE\":6,\"GENDER\":1,\"CLAIMED\":18023,\"PRACTICE_NUMBER\":59500,\"DESCRIPTION\":1,\"TARIFF_CODE\":345978,\"Class\":0},ignore_index=True)\n",
    "train_dataset = train_dataset.append({\"MEMBER_NUMBER\":3745,\"CURRENTAGE\":7,\"GENDER\":1,\"CLAIMED\":56566,\"PRACTICE_NUMBER\":59500,\"DESCRIPTION\":1,\"TARIFF_CODE\":345545,\"Class\":0},ignore_index=True)\n",
    "train_dataset = train_dataset.append({\"MEMBER_NUMBER\":3450,\"CURRENTAGE\":8,\"GENDER\":1,\"CLAIMED\":18023,\"PRACTICE_NUMBER\":59500,\"DESCRIPTION\":1,\"TARIFF_CODE\":345576,\"Class\":0},ignore_index=True)\n",
    "train_dataset = train_dataset.append({\"MEMBER_NUMBER\":450,\"CURRENTAGE\":9,\"GENDER\":1,\"CLAIMED\":18023,\"PRACTICE_NUMBER\":59500,\"DESCRIPTION\":1,\"TARIFF_CODE\":345567,\"Class\":0},ignore_index=True)\n",
    "train_dataset = train_dataset.append({\"MEMBER_NUMBER\":345,\"CURRENTAGE\":10,\"GENDER\":1,\"CLAIMED\":18023,\"PRACTICE_NUMBER\":59500,\"DESCRIPTION\":1,\"TARIFF_CODE\":34546,\"Class\":0},ignore_index=True)\n",
    "train_dataset = train_dataset.append({\"MEMBER_NUMBER\":3453,\"CURRENTAGE\":11,\"GENDER\":1,\"CLAIMED\":18023,\"PRACTICE_NUMBER\":59500,\"DESCRIPTION\":1,\"TARIFF_CODE\":3455,\"Class\":0},ignore_index=True)\n",
    "train_dataset = train_dataset.append({\"MEMBER_NUMBER\":435,\"CURRENTAGE\":12,\"GENDER\":1,\"CLAIMED\":18023,\"PRACTICE_NUMBER\":59500,\"DESCRIPTION\":1,\"TARIFF_CODE\":6553,\"Class\":0},ignore_index=True)\n",
    "train_dataset = train_dataset.append({\"MEMBER_NUMBER\":345,\"CURRENTAGE\":13,\"GENDER\":1,\"CLAIMED\":18023,\"PRACTICE_NUMBER\":59500,\"DESCRIPTION\":1,\"TARIFF_CODE\":64775,\"Class\":0},ignore_index=True)\n",
    "train_dataset = train_dataset.append({\"MEMBER_NUMBER\":768,\"CURRENTAGE\":14,\"GENDER\":1,\"CLAIMED\":5656,\"PRACTICE_NUMBER\":576579,\"DESCRIPTION\":1,\"TARIFF_CODE\":34534,\"Class\":0},ignore_index=True)\n",
    "train_dataset = train_dataset.append({\"MEMBER_NUMBER\":456,\"CURRENTAGE\":15,\"GENDER\":1,\"CLAIMED\":18023,\"PRACTICE_NUMBER\":59500,\"DESCRIPTION\":1,\"TARIFF_CODE\":56756,\"Class\":0},ignore_index=True)\n",
    "train_dataset = train_dataset.append({\"MEMBER_NUMBER\":765,\"CURRENTAGE\":16,\"GENDER\":1,\"CLAIMED\":18023,\"PRACTICE_NUMBER\":59500,\"DESCRIPTION\":1,\"TARIFF_CODE\":65765,\"Class\":0},ignore_index=True)\n",
    "train_dataset = train_dataset.append({\"MEMBER_NUMBER\":8697,\"CURRENTAGE\":17,\"GENDER\":1,\"CLAIMED\":18023,\"PRACTICE_NUMBER\":467687,\"DESCRIPTION\":1,\"TARIFF_CODE\":46546,\"Class\":0},ignore_index=True)\n",
    "\n",
    "\n",
    "\n",
    "train_dataset = train_dataset.append({\"MEMBER_NUMBER\":874,\"CURRENTAGE\":18,\"GENDER\":1,\"CLAIMED\":18023,\"PRACTICE_NUMBER\":59300,\"DESCRIPTION\":1,\"TARIFF_CODE\":4357445,\"Class\":1},ignore_index=True)\n",
    "train_dataset = train_dataset.append({\"MEMBER_NUMBER\":3567,\"CURRENTAGE\":19,\"GENDER\":1,\"CLAIMED\":186023,\"PRACTICE_NUMBER\":59500,\"DESCRIPTION\":1,\"TARIFF_CODE\":34566,\"Class\":1},ignore_index=True)\n",
    "train_dataset = train_dataset.append({\"MEMBER_NUMBER\":45057,\"CURRENTAGE\":20,\"GENDER\":1,\"CLAIMED\":18023,\"PRACTICE_NUMBER\":59500,\"DESCRIPTION\":1,\"TARIFF_CODE\":100,\"Class\":1},ignore_index=True)\n",
    "train_dataset = train_dataset.append({\"MEMBER_NUMBER\":678,\"CURRENTAGE\":21,\"GENDER\":1,\"CLAIMED\":18023,\"PRACTICE_NUMBER\":593400,\"DESCRIPTION\":1,\"TARIFF_CODE\":433456,\"Class\":1},ignore_index=True)\n",
    "train_dataset = train_dataset.append({\"MEMBER_NUMBER\":854,\"CURRENTAGE\":22,\"GENDER\":1,\"CLAIMED\":18023,\"PRACTICE_NUMBER\":59500,\"DESCRIPTION\":1,\"TARIFF_CODE\":45766,\"Class\":1},ignore_index=True)\n",
    "train_dataset = train_dataset.append({\"MEMBER_NUMBER\":4563,\"CURRENTAGE\":23,\"GENDER\":1,\"CLAIMED\":18023,\"PRACTICE_NUMBER\":100,\"DESCRIPTION\":1,\"TARIFF_CODE\":45866,\"Class\":1},ignore_index=True)\n",
    "train_dataset = train_dataset.append({\"MEMBER_NUMBER\":0,\"CURRENTAGE\":24,\"GENDER\":1,\"CLAIMED\":18023,\"PRACTICE_NUMBER\":59500,\"DESCRIPTION\":1,\"TARIFF_CODE\":4386,\"Class\":1},ignore_index=True)\n",
    "train_dataset = train_dataset.append({\"MEMBER_NUMBER\":450,\"CURRENTAGE\":25,\"GENDER\":1,\"CLAIMED\":18023,\"PRACTICE_NUMBER\":59500,\"DESCRIPTION\":1,\"TARIFF_CODE\":43467,\"Class\":1},ignore_index=True)\n",
    "train_dataset = train_dataset.append({\"MEMBER_NUMBER\":5756,\"CURRENTAGE\":26,\"GENDER\":1,\"CLAIMED\":18023,\"PRACTICE_NUMBER\":59500,\"DESCRIPTION\":1,\"TARIFF_CODE\":65437,\"Class\":1},ignore_index=True)\n",
    "train_dataset = train_dataset.append({\"MEMBER_NUMBER\":987,\"CURRENTAGE\":27,\"GENDER\":1,\"CLAIMED\":344443,\"PRACTICE_NUMBER\":59500,\"DESCRIPTION\":1,\"TARIFF_CODE\":0,\"Class\":1},ignore_index=True)\n",
    "train_dataset = train_dataset.append({\"MEMBER_NUMBER\":8234,\"CURRENTAGE\":20,\"GENDER\":1,\"CLAIMED\":18023,\"PRACTICE_NUMBER\":5000,\"DESCRIPTION\":1,\"TARIFF_CODE\":457654,\"Class\":1},ignore_index=True)\n",
    "train_dataset = train_dataset.append({\"MEMBER_NUMBER\":49503,\"CURRENTAGE\":21,\"GENDER\":1,\"CLAIMED\":1023,\"PRACTICE_NUMBER\":534500,\"DESCRIPTION\":1,\"TARIFF_CODE\":547654,\"Class\":1},ignore_index=True)\n",
    "train_dataset = train_dataset.append({\"MEMBER_NUMBER\":34590,\"CURRENTAGE\":22,\"GENDER\":1,\"CLAIMED\":18023,\"PRACTICE_NUMBER\":59500,\"DESCRIPTION\":1,\"TARIFF_CODE\":54676,\"Class\":1},ignore_index=True)\n",
    "train_dataset = train_dataset.append({\"MEMBER_NUMBER\":3943,\"CURRENTAGE\":23,\"GENDER\":1,\"CLAIMED\":18023,\"PRACTICE_NUMBER\":59500,\"DESCRIPTION\":1,\"TARIFF_CODE\":543766,\"Class\":1},ignore_index=True)\n",
    "train_dataset = train_dataset.append({\"MEMBER_NUMBER\":450,\"CURRENTAGE\":24,\"GENDER\":1,\"CLAIMED\":18023,\"PRACTICE_NUMBER\":66366,\"DESCRIPTION\":1,\"TARIFF_CODE\":536753,\"Class\":1},ignore_index=True)\n",
    "train_dataset = train_dataset.append({\"MEMBER_NUMBER\":3490,\"CURRENTAGE\":25,\"GENDER\":1,\"CLAIMED\":344345,\"PRACTICE_NUMBER\":59500,\"DESCRIPTION\":1,\"TARIFF_CODE\":753554,\"Class\":1},ignore_index=True)\n",
    "train_dataset = train_dataset.append({\"MEMBER_NUMBER\":3450,\"CURRENTAGE\":26,\"GENDER\":1,\"CLAIMED\":18023,\"PRACTICE_NUMBER\":59500,\"DESCRIPTION\":1,\"TARIFF_CODE\":345978,\"Class\":1},ignore_index=True)\n",
    "train_dataset = train_dataset.append({\"MEMBER_NUMBER\":3745,\"CURRENTAGE\":27,\"GENDER\":1,\"CLAIMED\":56566,\"PRACTICE_NUMBER\":56500,\"DESCRIPTION\":1,\"TARIFF_CODE\":345545,\"Class\":1},ignore_index=True)\n",
    "train_dataset = train_dataset.append({\"MEMBER_NUMBER\":3450,\"CURRENTAGE\":28,\"GENDER\":1,\"CLAIMED\":18023,\"PRACTICE_NUMBER\":59500,\"DESCRIPTION\":1,\"TARIFF_CODE\":345576,\"Class\":1},ignore_index=True)\n",
    "train_dataset = train_dataset.append({\"MEMBER_NUMBER\":450,\"CURRENTAGE\":29,\"GENDER\":1,\"CLAIMED\":18023,\"PRACTICE_NUMBER\":59500,\"DESCRIPTION\":1,\"TARIFF_CODE\":38567,\"Class\":1},ignore_index=True)\n",
    "train_dataset = train_dataset.append({\"MEMBER_NUMBER\":345,\"CURRENTAGE\":30,\"GENDER\":1,\"CLAIMED\":1803,\"PRACTICE_NUMBER\":59540,\"DESCRIPTION\":1,\"TARIFF_CODE\":34546,\"Class\":1},ignore_index=True)\n",
    "train_dataset = train_dataset.append({\"MEMBER_NUMBER\":3453,\"CURRENTAGE\":21,\"GENDER\":1,\"CLAIMED\":18023,\"PRACTICE_NUMBER\":59500,\"DESCRIPTION\":1,\"TARIFF_CODE\":34355,\"Class\":1},ignore_index=True)\n",
    "train_dataset = train_dataset.append({\"MEMBER_NUMBER\":435,\"CURRENTAGE\":22,\"GENDER\":1,\"CLAIMED\":18023,\"PRACTICE_NUMBER\":59500,\"DESCRIPTION\":1,\"TARIFF_CODE\":6553,\"Class\":1},ignore_index=True)\n",
    "train_dataset = train_dataset.append({\"MEMBER_NUMBER\":345,\"CURRENTAGE\":23,\"GENDER\":1,\"CLAIMED\":18023,\"PRACTICE_NUMBER\":59500,\"DESCRIPTION\":1,\"TARIFF_CODE\":64775,\"Class\":1},ignore_index=True)\n",
    "train_dataset = train_dataset.append({\"MEMBER_NUMBER\":768,\"CURRENTAGE\":24,\"GENDER\":1,\"CLAIMED\":5656,\"PRACTICE_NUMBER\":5763479,\"DESCRIPTION\":1,\"TARIFF_CODE\":34534,\"Class\":1},ignore_index=True)\n",
    "train_dataset = train_dataset.append({\"MEMBER_NUMBER\":456,\"CURRENTAGE\":25,\"GENDER\":1,\"CLAIMED\":18723,\"PRACTICE_NUMBER\":59500,\"DESCRIPTION\":1,\"TARIFF_CODE\":56356,\"Class\":1},ignore_index=True)\n",
    "train_dataset = train_dataset.append({\"MEMBER_NUMBER\":765,\"CURRENTAGE\":26,\"GENDER\":1,\"CLAIMED\":18023,\"PRACTICE_NUMBER\":59500,\"DESCRIPTION\":1,\"TARIFF_CODE\":65765,\"Class\":1},ignore_index=True)\n",
    "train_dataset = train_dataset.append({\"MEMBER_NUMBER\":8697,\"CURRENTAGE\":18,\"GENDER\":1,\"CLAIMED\":18023,\"PRACTICE_NUMBER\":467687,\"DESCRIPTION\":1,\"TARIFF_CODE\":46546,\"Class\":1},ignore_index=True)\n",
    "train_dataset = train_dataset.append({\"MEMBER_NUMBER\":8697,\"CURRENTAGE\":19,\"GENDER\":1,\"CLAIMED\":1023,\"PRACTICE_NUMBER\":467687,\"DESCRIPTION\":1,\"TARIFF_CODE\":46546,\"Class\":1},ignore_index=True)\n"
   ]
  },
  {
   "cell_type": "code",
   "execution_count": 17,
   "id": "f3ec5678-c3c1-4a60-9d2e-6cd9ebe21a6b",
   "metadata": {},
   "outputs": [
    {
     "data": {
      "text/html": [
       "<div>\n",
       "<style scoped>\n",
       "    .dataframe tbody tr th:only-of-type {\n",
       "        vertical-align: middle;\n",
       "    }\n",
       "\n",
       "    .dataframe tbody tr th {\n",
       "        vertical-align: top;\n",
       "    }\n",
       "\n",
       "    .dataframe thead th {\n",
       "        text-align: right;\n",
       "    }\n",
       "</style>\n",
       "<table border=\"1\" class=\"dataframe\">\n",
       "  <thead>\n",
       "    <tr style=\"text-align: right;\">\n",
       "      <th></th>\n",
       "      <th>MEMBER_NUMBER</th>\n",
       "      <th>CURRENTAGE</th>\n",
       "      <th>GENDER</th>\n",
       "      <th>CLAIMED</th>\n",
       "      <th>PRACTICE_NUMBER</th>\n",
       "      <th>DESCRIPTION</th>\n",
       "      <th>TARIFF_CODE</th>\n",
       "      <th>Class</th>\n",
       "    </tr>\n",
       "  </thead>\n",
       "  <tbody>\n",
       "    <tr>\n",
       "      <th>45932</th>\n",
       "      <td>768</td>\n",
       "      <td>24.0</td>\n",
       "      <td>1</td>\n",
       "      <td>5656.0</td>\n",
       "      <td>5763479</td>\n",
       "      <td>1</td>\n",
       "      <td>34534</td>\n",
       "      <td>1</td>\n",
       "    </tr>\n",
       "    <tr>\n",
       "      <th>45933</th>\n",
       "      <td>456</td>\n",
       "      <td>25.0</td>\n",
       "      <td>1</td>\n",
       "      <td>18723.0</td>\n",
       "      <td>59500</td>\n",
       "      <td>1</td>\n",
       "      <td>56356</td>\n",
       "      <td>1</td>\n",
       "    </tr>\n",
       "    <tr>\n",
       "      <th>45934</th>\n",
       "      <td>765</td>\n",
       "      <td>26.0</td>\n",
       "      <td>1</td>\n",
       "      <td>18023.0</td>\n",
       "      <td>59500</td>\n",
       "      <td>1</td>\n",
       "      <td>65765</td>\n",
       "      <td>1</td>\n",
       "    </tr>\n",
       "    <tr>\n",
       "      <th>45935</th>\n",
       "      <td>8697</td>\n",
       "      <td>18.0</td>\n",
       "      <td>1</td>\n",
       "      <td>18023.0</td>\n",
       "      <td>467687</td>\n",
       "      <td>1</td>\n",
       "      <td>46546</td>\n",
       "      <td>1</td>\n",
       "    </tr>\n",
       "    <tr>\n",
       "      <th>45936</th>\n",
       "      <td>8697</td>\n",
       "      <td>19.0</td>\n",
       "      <td>1</td>\n",
       "      <td>1023.0</td>\n",
       "      <td>467687</td>\n",
       "      <td>1</td>\n",
       "      <td>46546</td>\n",
       "      <td>1</td>\n",
       "    </tr>\n",
       "  </tbody>\n",
       "</table>\n",
       "</div>"
      ],
      "text/plain": [
       "       MEMBER_NUMBER  CURRENTAGE  GENDER  CLAIMED  PRACTICE_NUMBER  \\\n",
       "45932            768        24.0       1   5656.0          5763479   \n",
       "45933            456        25.0       1  18723.0            59500   \n",
       "45934            765        26.0       1  18023.0            59500   \n",
       "45935           8697        18.0       1  18023.0           467687   \n",
       "45936           8697        19.0       1   1023.0           467687   \n",
       "\n",
       "       DESCRIPTION  TARIFF_CODE  Class  \n",
       "45932            1        34534      1  \n",
       "45933            1        56356      1  \n",
       "45934            1        65765      1  \n",
       "45935            1        46546      1  \n",
       "45936            1        46546      1  "
      ]
     },
     "execution_count": 17,
     "metadata": {},
     "output_type": "execute_result"
    }
   ],
   "source": [
    "train_dataset.tail()\n"
   ]
  },
  {
   "cell_type": "code",
   "execution_count": null,
   "id": "c6d921df-17b5-4148-840a-944cc4e7d22e",
   "metadata": {},
   "outputs": [],
   "source": []
  },
  {
   "cell_type": "code",
   "execution_count": 18,
   "id": "d5f3cbd8-120e-4db5-8ca0-a91506c9e4cc",
   "metadata": {},
   "outputs": [
    {
     "data": {
      "text/html": [
       "<div>\n",
       "<style scoped>\n",
       "    .dataframe tbody tr th:only-of-type {\n",
       "        vertical-align: middle;\n",
       "    }\n",
       "\n",
       "    .dataframe tbody tr th {\n",
       "        vertical-align: top;\n",
       "    }\n",
       "\n",
       "    .dataframe thead th {\n",
       "        text-align: right;\n",
       "    }\n",
       "</style>\n",
       "<table border=\"1\" class=\"dataframe\">\n",
       "  <thead>\n",
       "    <tr style=\"text-align: right;\">\n",
       "      <th></th>\n",
       "      <th>MEMBER_NUMBER</th>\n",
       "      <th>CURRENTAGE</th>\n",
       "      <th>GENDER</th>\n",
       "      <th>CLAIMED</th>\n",
       "      <th>PRACTICE_NUMBER</th>\n",
       "      <th>DESCRIPTION</th>\n",
       "      <th>TARIFF_CODE</th>\n",
       "      <th>Class</th>\n",
       "    </tr>\n",
       "  </thead>\n",
       "  <tbody>\n",
       "    <tr>\n",
       "      <th>0</th>\n",
       "      <td>40000276622</td>\n",
       "      <td>39.120136</td>\n",
       "      <td>1</td>\n",
       "      <td>40.0</td>\n",
       "      <td>18635</td>\n",
       "      <td>1</td>\n",
       "      <td>59489</td>\n",
       "      <td>1</td>\n",
       "    </tr>\n",
       "    <tr>\n",
       "      <th>1</th>\n",
       "      <td>30001509885</td>\n",
       "      <td>38.133577</td>\n",
       "      <td>1</td>\n",
       "      <td>60.0</td>\n",
       "      <td>18988</td>\n",
       "      <td>1</td>\n",
       "      <td>59477</td>\n",
       "      <td>1</td>\n",
       "    </tr>\n",
       "    <tr>\n",
       "      <th>2</th>\n",
       "      <td>30002057165</td>\n",
       "      <td>36.265298</td>\n",
       "      <td>1</td>\n",
       "      <td>442.0</td>\n",
       "      <td>185296</td>\n",
       "      <td>1</td>\n",
       "      <td>59500</td>\n",
       "      <td>1</td>\n",
       "    </tr>\n",
       "    <tr>\n",
       "      <th>3</th>\n",
       "      <td>30001767047</td>\n",
       "      <td>35.305620</td>\n",
       "      <td>1</td>\n",
       "      <td>80.0</td>\n",
       "      <td>18538</td>\n",
       "      <td>1</td>\n",
       "      <td>90031</td>\n",
       "      <td>1</td>\n",
       "    </tr>\n",
       "    <tr>\n",
       "      <th>4</th>\n",
       "      <td>30001118394</td>\n",
       "      <td>40.343255</td>\n",
       "      <td>1</td>\n",
       "      <td>25.0</td>\n",
       "      <td>18686</td>\n",
       "      <td>1</td>\n",
       "      <td>59477</td>\n",
       "      <td>1</td>\n",
       "    </tr>\n",
       "    <tr>\n",
       "      <th>...</th>\n",
       "      <td>...</td>\n",
       "      <td>...</td>\n",
       "      <td>...</td>\n",
       "      <td>...</td>\n",
       "      <td>...</td>\n",
       "      <td>...</td>\n",
       "      <td>...</td>\n",
       "      <td>...</td>\n",
       "    </tr>\n",
       "    <tr>\n",
       "      <th>45932</th>\n",
       "      <td>768</td>\n",
       "      <td>24.000000</td>\n",
       "      <td>1</td>\n",
       "      <td>5656.0</td>\n",
       "      <td>5763479</td>\n",
       "      <td>1</td>\n",
       "      <td>34534</td>\n",
       "      <td>1</td>\n",
       "    </tr>\n",
       "    <tr>\n",
       "      <th>45933</th>\n",
       "      <td>456</td>\n",
       "      <td>25.000000</td>\n",
       "      <td>1</td>\n",
       "      <td>18723.0</td>\n",
       "      <td>59500</td>\n",
       "      <td>1</td>\n",
       "      <td>56356</td>\n",
       "      <td>1</td>\n",
       "    </tr>\n",
       "    <tr>\n",
       "      <th>45934</th>\n",
       "      <td>765</td>\n",
       "      <td>26.000000</td>\n",
       "      <td>1</td>\n",
       "      <td>18023.0</td>\n",
       "      <td>59500</td>\n",
       "      <td>1</td>\n",
       "      <td>65765</td>\n",
       "      <td>1</td>\n",
       "    </tr>\n",
       "    <tr>\n",
       "      <th>45935</th>\n",
       "      <td>8697</td>\n",
       "      <td>18.000000</td>\n",
       "      <td>1</td>\n",
       "      <td>18023.0</td>\n",
       "      <td>467687</td>\n",
       "      <td>1</td>\n",
       "      <td>46546</td>\n",
       "      <td>1</td>\n",
       "    </tr>\n",
       "    <tr>\n",
       "      <th>45936</th>\n",
       "      <td>8697</td>\n",
       "      <td>19.000000</td>\n",
       "      <td>1</td>\n",
       "      <td>1023.0</td>\n",
       "      <td>467687</td>\n",
       "      <td>1</td>\n",
       "      <td>46546</td>\n",
       "      <td>1</td>\n",
       "    </tr>\n",
       "  </tbody>\n",
       "</table>\n",
       "<p>45937 rows × 8 columns</p>\n",
       "</div>"
      ],
      "text/plain": [
       "       MEMBER_NUMBER  CURRENTAGE  GENDER  CLAIMED  PRACTICE_NUMBER  \\\n",
       "0        40000276622   39.120136       1     40.0            18635   \n",
       "1        30001509885   38.133577       1     60.0            18988   \n",
       "2        30002057165   36.265298       1    442.0           185296   \n",
       "3        30001767047   35.305620       1     80.0            18538   \n",
       "4        30001118394   40.343255       1     25.0            18686   \n",
       "...              ...         ...     ...      ...              ...   \n",
       "45932            768   24.000000       1   5656.0          5763479   \n",
       "45933            456   25.000000       1  18723.0            59500   \n",
       "45934            765   26.000000       1  18023.0            59500   \n",
       "45935           8697   18.000000       1  18023.0           467687   \n",
       "45936           8697   19.000000       1   1023.0           467687   \n",
       "\n",
       "       DESCRIPTION  TARIFF_CODE  Class  \n",
       "0                1        59489      1  \n",
       "1                1        59477      1  \n",
       "2                1        59500      1  \n",
       "3                1        90031      1  \n",
       "4                1        59477      1  \n",
       "...            ...          ...    ...  \n",
       "45932            1        34534      1  \n",
       "45933            1        56356      1  \n",
       "45934            1        65765      1  \n",
       "45935            1        46546      1  \n",
       "45936            1        46546      1  \n",
       "\n",
       "[45937 rows x 8 columns]"
      ]
     },
     "execution_count": 18,
     "metadata": {},
     "output_type": "execute_result"
    }
   ],
   "source": [
    "train_dataset"
   ]
  },
  {
   "cell_type": "code",
   "execution_count": null,
   "id": "80b49e55-0beb-49ec-b6d4-f9ccda38e63d",
   "metadata": {},
   "outputs": [],
   "source": []
  },
  {
   "cell_type": "code",
   "execution_count": 19,
   "id": "2b17afcb-c857-4c8d-8823-aea17ade30ad",
   "metadata": {},
   "outputs": [],
   "source": [
    "x = train_dataset.drop(columns = ['Class', 'MEMBER_NUMBER'], axis = 1)\n",
    "y = train_dataset['Class']"
   ]
  },
  {
   "cell_type": "code",
   "execution_count": 20,
   "id": "89fe25fb-1a8a-4510-a664-0adab453c79a",
   "metadata": {},
   "outputs": [],
   "source": [
    "from sklearn.model_selection import train_test_split\n",
    "x_train, x_test, y_train, y_test = train_test_split(x, y, test_size = 0.25, random_state=42)\n"
   ]
  },
  {
   "cell_type": "code",
   "execution_count": null,
   "id": "44fa95f7",
   "metadata": {},
   "outputs": [],
   "source": []
  },
  {
   "cell_type": "code",
   "execution_count": 21,
   "id": "8abf3007-aad9-4698-b781-5b02f57ec2e9",
   "metadata": {},
   "outputs": [
    {
     "data": {
      "text/plain": [
       "LogisticRegression(class_weight='balanced')"
      ]
     },
     "execution_count": 21,
     "metadata": {},
     "output_type": "execute_result"
    }
   ],
   "source": [
    "from sklearn.linear_model import LogisticRegression\n",
    "model = LogisticRegression(class_weight='balanced')\n",
    "model.fit(x_train,y_train)\n",
    "\n"
   ]
  },
  {
   "cell_type": "code",
   "execution_count": 22,
   "id": "69e55f26-11d2-4009-9f23-81dcbeedf5a7",
   "metadata": {},
   "outputs": [
    {
     "data": {
      "text/plain": [
       "array([1], dtype=int64)"
      ]
     },
     "execution_count": 22,
     "metadata": {},
     "output_type": "execute_result"
    }
   ],
   "source": [
    "model.predict([[450,0,70,18023,1,59500]])"
   ]
  },
  {
   "cell_type": "code",
   "execution_count": 23,
   "id": "51d2a99a-aa6a-4d81-99ec-c370f9075712",
   "metadata": {},
   "outputs": [
    {
     "data": {
      "text/plain": [
       "array([1], dtype=int64)"
      ]
     },
     "execution_count": 23,
     "metadata": {},
     "output_type": "execute_result"
    }
   ],
   "source": [
    "model.predict([[30,1,30,188851,1,59477]])"
   ]
  },
  {
   "cell_type": "code",
   "execution_count": null,
   "id": "568ac650",
   "metadata": {},
   "outputs": [],
   "source": []
  },
  {
   "cell_type": "code",
   "execution_count": null,
   "id": "43204731",
   "metadata": {},
   "outputs": [],
   "source": []
  },
  {
   "cell_type": "code",
   "execution_count": null,
   "id": "b7e3c920",
   "metadata": {},
   "outputs": [],
   "source": []
  },
  {
   "cell_type": "code",
   "execution_count": 24,
   "id": "47f091b8-2ae6-4734-918f-0530fc52087e",
   "metadata": {},
   "outputs": [],
   "source": [
    "from imblearn.over_sampling import SMOTE\n",
    "smote = SMOTE()"
   ]
  },
  {
   "cell_type": "code",
   "execution_count": 25,
   "id": "91652c55-49aa-4cbc-bdb2-9799914d9e05",
   "metadata": {},
   "outputs": [],
   "source": [
    "x_train_smote, y_train_smote = smote.fit_resample(x_train.astype('float'),y_train)"
   ]
  },
  {
   "cell_type": "code",
   "execution_count": 26,
   "id": "a5b0b3e8-c421-44de-a2d2-955cd3197ee0",
   "metadata": {},
   "outputs": [
    {
     "data": {
      "text/plain": [
       "LogisticRegression(class_weight='balanced')"
      ]
     },
     "execution_count": 26,
     "metadata": {},
     "output_type": "execute_result"
    }
   ],
   "source": [
    "model.fit(x_train_smote, y_train_smote)"
   ]
  },
  {
   "cell_type": "code",
   "execution_count": 27,
   "id": "341c81e6-1bf7-463c-9418-9b8694ac4e84",
   "metadata": {},
   "outputs": [
    {
     "data": {
      "text/plain": [
       "array([0], dtype=int64)"
      ]
     },
     "execution_count": 27,
     "metadata": {},
     "output_type": "execute_result"
    }
   ],
   "source": [
    "model.predict([[0,0,30,1023,0,590]])"
   ]
  },
  {
   "cell_type": "code",
   "execution_count": 28,
   "id": "9d598143-fa13-4063-8510-ac0e5f709028",
   "metadata": {},
   "outputs": [],
   "source": [
    "from sklearn.ensemble import RandomForestClassifier, ExtraTreesClassifier\n",
    "from sklearn.neighbors import KNeighborsClassifier\n",
    "from sklearn.naive_bayes import GaussianNB\n",
    "from sklearn import svm\n",
    "svm_clf = svm.SVC()\n",
    "Naive_Bayes = GaussianNB()\n",
    "knn = KNeighborsClassifier(n_neighbors=4)\n",
    "model1 = RandomForestClassifier()\n",
    "model2 = ExtraTreesClassifier()"
   ]
  },
  {
   "cell_type": "code",
   "execution_count": null,
   "id": "9104c44a-fff2-4972-a2a8-64621803ae89",
   "metadata": {},
   "outputs": [],
   "source": [
    "model.fit(x_train_smote,y_train_smote)\n",
    "model1.fit(x_train_smote,y_train_smote)\n",
    "model2.fit(x_train_smote,y_train_smote)\n",
    "svm_clf.fit(x_train_smote,y_train_smote)\n",
    "Naive_Bayes.fit(x_train_smote,y_train_smote)\n",
    "knn.fit(x_train_smote,y_train_smote)"
   ]
  },
  {
   "cell_type": "code",
   "execution_count": null,
   "id": "709431b8",
   "metadata": {},
   "outputs": [],
   "source": [
    "lg_pred1=model1.predict(x_test)\n",
    "lg_pred2=model2.predict(x_test)\n",
    "\n",
    "model1.score(x_test,y_test)\n",
    "model2.score(x_test,y_test)\n",
    "print(classification_report(y_test,lg_pred1))\n",
    "print(confusion_matrix(y_test,lg_1))"
   ]
  },
  {
   "cell_type": "code",
   "execution_count": null,
   "id": "2f5a5f97",
   "metadata": {},
   "outputs": [],
   "source": [
    "print(classification_report(y_test,lg_pred2))\n",
    "print(confusion_matrix(y_test,lg_2))"
   ]
  },
  {
   "cell_type": "code",
   "execution_count": null,
   "id": "554299bc-0772-4e8e-bebc-0ec5ee428f8a",
   "metadata": {},
   "outputs": [],
   "source": [
    "x_train_smote"
   ]
  },
  {
   "cell_type": "code",
   "execution_count": null,
   "id": "6401a1df",
   "metadata": {},
   "outputs": [],
   "source": []
  },
  {
   "cell_type": "code",
   "execution_count": null,
   "id": "6c20419e",
   "metadata": {},
   "outputs": [],
   "source": []
  },
  {
   "cell_type": "code",
   "execution_count": null,
   "id": "c3332867",
   "metadata": {},
   "outputs": [],
   "source": []
  },
  {
   "cell_type": "code",
   "execution_count": null,
   "id": "440ddde9",
   "metadata": {},
   "outputs": [],
   "source": []
  },
  {
   "cell_type": "code",
   "execution_count": null,
   "id": "df4abd38-3ac8-46d7-8ace-e96b38f99ff5",
   "metadata": {},
   "outputs": [],
   "source": [
    "model1.predict([[15,1,20,180181,1,123455]])"
   ]
  },
  {
   "cell_type": "code",
   "execution_count": null,
   "id": "cec6d1b8-6eed-4de5-ad54-5e68d3e6942f",
   "metadata": {},
   "outputs": [],
   "source": [
    "import joblib\n",
    " \n",
    "# Save the model as a pickle in a file\n",
    "joblib.dump(model, 'logistics.pkl')\n",
    "joblib.dump(model1, 'randForest.pkl')\n",
    "joblib.dump(model2, 'extraTrees.pkl')\n",
    "joblib.dump(svm_clf, 'svm.pkl')\n",
    "joblib.dump(knn, 'knn.pkl')\n",
    "joblib.dump(Naive_Bayes, 'gauss.pkl')\n",
    "\n",
    "\n",
    " \n",
    "# Load the model from the file\n",
    "#knn_from_joblib = joblib.load('filename.pkl')\n",
    " \n",
    "# Use the loaded model to make predictions\n",
    "#knn_from_joblib.predict(X_test)"
   ]
  },
  {
   "cell_type": "code",
   "execution_count": null,
   "id": "5595ea8f-abb2-46d6-ae16-06e087996bab",
   "metadata": {},
   "outputs": [],
   "source": [
    "knn_from_joblib = joblib.load('svm.pkl')\n",
    "knn_from_joblib.predict([[40,0,70,18023,1,59500]])"
   ]
  },
  {
   "cell_type": "code",
   "execution_count": null,
   "id": "57a4fd47-517c-4010-96a1-992973644a0b",
   "metadata": {},
   "outputs": [],
   "source": []
  },
  {
   "cell_type": "code",
   "execution_count": null,
   "id": "9ed69178",
   "metadata": {},
   "outputs": [],
   "source": []
  },
  {
   "cell_type": "code",
   "execution_count": null,
   "id": "654d410c",
   "metadata": {},
   "outputs": [],
   "source": []
  },
  {
   "cell_type": "code",
   "execution_count": null,
   "id": "9d3c0891",
   "metadata": {},
   "outputs": [],
   "source": []
  }
 ],
 "metadata": {
  "kernelspec": {
   "display_name": "Python 3 (ipykernel)",
   "language": "python",
   "name": "python3"
  },
  "language_info": {
   "codemirror_mode": {
    "name": "ipython",
    "version": 3
   },
   "file_extension": ".py",
   "mimetype": "text/x-python",
   "name": "python",
   "nbconvert_exporter": "python",
   "pygments_lexer": "ipython3",
   "version": "3.10.0"
  }
 },
 "nbformat": 4,
 "nbformat_minor": 5
}
